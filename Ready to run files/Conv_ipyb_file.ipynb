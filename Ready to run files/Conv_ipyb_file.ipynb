{
 "cells": [
  {
   "cell_type": "code",
   "execution_count": null,
   "id": "772e1515",
   "metadata": {},
   "outputs": [],
   "source": [
    "from pynq import Overlay\n",
    "from pynq import allocate\n",
    "import numpy as np\n",
    "import math\n",
    "import time\n",
    "\n",
    "# Program the FPGA with the bit file\n",
    "ol = Overlay(\"/home/xilinx/jupyter_notebooks/bit_files/Conv_no_opt.bit\")\n",
    "\n",
    "# Check the IPs in the overaly\n",
    "ol.ip_dict\n",
    "\n",
    "# Create an instance of the DMA and define functions for sending and receiving the data\n",
    "dma = ol.axi_dma_0\n",
    "dma_send = ol.axi_dma_0.sendchannel\n",
    "dma_recv = ol.axi_dma_0.recvchannel\n"
   ]
  },
  {
   "cell_type": "code",
   "execution_count": null,
   "id": "3c6c3587",
   "metadata": {},
   "outputs": [],
   "source": [
    "\n",
    "# Defining matrix and convolution parameters (All matrix has to be square)\n",
    "\n",
    "image_size = 9       # 3x3\n",
    "kernal_size = 9      # 3x3 \n",
    "output_size = 9      \n",
    "\n",
    "# Padding = 1, Stride = 1 (Can be change in Vivado_HLS)\n",
    "\n",
    "# Giving the inputs in form of list\n",
    "image = [1,2,3,4,5,6,7,8,9]\n",
    "kernal = [-1,-2,-1,0,0,0,1,2,1]\n"
   ]
  },
  {
   "cell_type": "code",
   "execution_count": null,
   "id": "6697b013",
   "metadata": {},
   "outputs": [],
   "source": [
    "\n",
    "# Defining buffers for streaming \n",
    "Image_buffer = allocate(shape=(image_size,), dtype=float)\n",
    "Kernal_buffer = allocate(shape=(kernal_size,), dtype=float)\n",
    "output_buffer = allocate(shape=(output_size,), dtype=float)\n",
    "\n",
    "\n",
    "# Copying the input and kernal matrix elements into buffers transfer\n",
    "for i in range(image_size):\n",
    "    Image_buffer[i] = image[i]\n",
    "for i in range(kernal_size):\n",
    "    Kernal_buffer[i] = kernal[i]\n",
    "    "
   ]
  },
  {
   "cell_type": "code",
   "execution_count": null,
   "id": "5eefd3fd",
   "metadata": {},
   "outputs": [],
   "source": [
    "\n",
    "# Checking if buffers are loaded correctly \n",
    "\n",
    "print('Image Matrix')\n",
    "for i in range(image_size):\n",
    "    print(Image_buffer[i])\n",
    "    \n",
    "print('Kernal Matrix')\n",
    "for i in range(kernal_size):\n",
    "    print(Kernal_buffer[i])\n",
    "    "
   ]
  },
  {
   "cell_type": "code",
   "execution_count": null,
   "id": "3b8ade24",
   "metadata": {},
   "outputs": [],
   "source": [
    "\n",
    "# Sending the inputs via AXI channel\n",
    "start = time.time()\n",
    "\n",
    "dma_send.transfer(Image_buffer)\n",
    "dma_send.idle\n",
    "\n",
    "dma_send.transfer(Kernal_buffer)\n",
    "dma_send.idle\n"
   ]
  },
  {
   "cell_type": "code",
   "execution_count": null,
   "id": "b18e1e85",
   "metadata": {},
   "outputs": [],
   "source": [
    "\n",
    "# Receive the output data from FPGA \n",
    "dma_recv.transfer(output_buffer)\n",
    "dma.recvchannel.wait()\n",
    "\n",
    "end = time.time()\n",
    "fpga_run_time = end - start"
   ]
  },
  {
   "cell_type": "code",
   "execution_count": null,
   "id": "63ef8f78",
   "metadata": {},
   "outputs": [],
   "source": [
    "print('Output Image')\n",
    "for i in range(output_size):\n",
    "    print(output_buffer[i])"
   ]
  },
  {
   "cell_type": "code",
   "execution_count": null,
   "id": "5ef22f0c",
   "metadata": {},
   "outputs": [],
   "source": [
    "# Performing convolution using python script\n",
    "\n",
    "A_matrix = Image_buffer.reshape((int(math.sqrt(image_size)),int(math.sqrt(image_size))))\n",
    "B_matrix = Kernal_buffer.reshape((int(math.sqrt(kernal_size)),int(math.sqrt(kernal_size))))\n",
    "Output_Matrix = output_buffer.reshape((int(math.sqrt(output_size)),int(math.sqrt(output_size))))\n",
    "\n",
    "def convolution(input_matrix, kernel_matrix, stride, padding):\n",
    "    # Get dimensions of input and kernel matrices\n",
    "    input_height, input_width = input_matrix.shape\n",
    "    kernel_height, kernel_width = kernel_matrix.shape\n",
    "\n",
    "    # Calculate output dimensions after considering padding\n",
    "    output_height = (input_height - kernel_height + 2 * padding) // stride + 1\n",
    "    output_width = (input_width - kernel_width + 2 * padding) // stride + 1\n",
    "\n",
    "    # Pad the input matrix\n",
    "    padded_input = np.pad(input_matrix, ((padding, padding), (padding, padding)), mode='constant')\n",
    "\n",
    "    # Initialize the output matrix\n",
    "    output_matrix = np.zeros((output_height, output_width))\n",
    "\n",
    "    # Perform convolution\n",
    "    for i in range(0, output_height):\n",
    "        for j in range(0, output_width):\n",
    "            output_matrix[i, j] = np.sum(padded_input[i*stride:i*stride+kernel_height, j*stride:j*stride+kernel_width] * kernel_matrix)\n",
    "\n",
    "    return output_matrix\n",
    "\n",
    "\n",
    "# Set stride and padding\n",
    "stride = 1\n",
    "padding = 1\n",
    "    \n",
    "# Perform convolution\n",
    "start = time. time()\n",
    "\n",
    "result = convolution(A_matrix,B_matrix, stride, padding)\n",
    "\n",
    "end = time.time()\n",
    "ps_run_time = end -start\n",
    "\n",
    "print(\"Input Matrix:\")\n",
    "print(A_matrix)\n",
    "print(\"\\nKernel Matrix:\")\n",
    "print(B_matrix)\n",
    "print(\"\\nConvolution result by python script:\")\n",
    "print(result)\n"
   ]
  },
  {
   "cell_type": "code",
   "execution_count": null,
   "id": "ad52df06",
   "metadata": {},
   "outputs": [],
   "source": [
    "# Checking if both output matrix are equal\n",
    "\n",
    "if np.array_equal(Output_Matrix, result):\n",
    "    print(\"The matrices are equal.\")\n",
    "else:\n",
    "    print(\"Both matrix doesnt match\")"
   ]
  },
  {
   "cell_type": "code",
   "execution_count": null,
   "id": "e80923e5",
   "metadata": {},
   "outputs": [],
   "source": [
    "print('FPGA run time: ', fpga_run_time)\n",
    "print('ARM PS run time: ', ps_run_time)"
   ]
  }
 ],
 "metadata": {
  "kernelspec": {
   "display_name": "Python 3",
   "language": "python",
   "name": "python3"
  },
  "language_info": {
   "codemirror_mode": {
    "name": "ipython",
    "version": 3
   },
   "file_extension": ".py",
   "mimetype": "text/x-python",
   "name": "python",
   "nbconvert_exporter": "python",
   "pygments_lexer": "ipython3",
   "version": "3.11.0"
  }
 },
 "nbformat": 4,
 "nbformat_minor": 5
}
